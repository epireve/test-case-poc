{
 "cells": [
  {
   "cell_type": "code",
   "execution_count": 1,
   "id": "3f7f48e9",
   "metadata": {
    "_cell_guid": "b1076dfc-b9ad-4769-8c92-a6c4dae69d19",
    "_uuid": "8f2839f25d086af736a60e9eeb907d3b93b6e0e5",
    "execution": {
     "iopub.execute_input": "2023-11-12T13:32:48.702169Z",
     "iopub.status.busy": "2023-11-12T13:32:48.701714Z",
     "iopub.status.idle": "2023-11-12T13:32:49.019554Z",
     "shell.execute_reply": "2023-11-12T13:32:49.018086Z"
    },
    "papermill": {
     "duration": 0.325921,
     "end_time": "2023-11-12T13:32:49.021984",
     "exception": false,
     "start_time": "2023-11-12T13:32:48.696063",
     "status": "completed"
    },
    "tags": []
   },
   "outputs": [
    {
     "name": "stdout",
     "output_type": "stream",
     "text": [
      "/kaggle/input/positive-and-negative-test-cases/Labelled_Test_Cases.csv\n"
     ]
    }
   ],
   "source": [
    "# This Python 3 environment comes with many helpful analytics libraries installed\n",
    "# It is defined by the kaggle/python Docker image: https://github.com/kaggle/docker-python\n",
    "# For example, here's several helpful packages to load\n",
    "\n",
    "import numpy as np # linear algebra\n",
    "import pandas as pd # data processing, CSV file I/O (e.g. pd.read_csv)\n",
    "\n",
    "# Input data files are available in the read-only \"../input/\" directory\n",
    "# For example, running this (by clicking run or pressing Shift+Enter) will list all files under the input directory\n",
    "\n",
    "import os\n",
    "for dirname, _, filenames in os.walk('/kaggle/input'):\n",
    "    for filename in filenames:\n",
    "        print(os.path.join(dirname, filename))\n",
    "\n",
    "# You can write up to 20GB to the current directory (/kaggle/working/) that gets preserved as output when you create a version using \"Save & Run All\" \n",
    "# You can also write temporary files to /kaggle/temp/, but they won't be saved outside of the current session"
   ]
  },
  {
   "cell_type": "code",
   "execution_count": 2,
   "id": "bcba3063",
   "metadata": {
    "execution": {
     "iopub.execute_input": "2023-11-12T13:32:49.031080Z",
     "iopub.status.busy": "2023-11-12T13:32:49.029867Z",
     "iopub.status.idle": "2023-11-12T13:32:49.053539Z",
     "shell.execute_reply": "2023-11-12T13:32:49.052290Z"
    },
    "papermill": {
     "duration": 0.030517,
     "end_time": "2023-11-12T13:32:49.056115",
     "exception": false,
     "start_time": "2023-11-12T13:32:49.025598",
     "status": "completed"
    },
    "tags": []
   },
   "outputs": [],
   "source": [
    "# Specify the correct encoding when reading the CSV file\n",
    "# df = pd.read_csv('/kaggle/input/positive-and-negative-test-cases/Labelled_Test_Cases.csv')  \n",
    "df = pd.read_csv('/kaggle/input/positive-and-negative-test-cases/Labelled_Test_Cases.csv', encoding='latin1') \n",
    "# Try 'ISO-8859-1' or 'utf-16' if needed"
   ]
  },
  {
   "cell_type": "code",
   "execution_count": 3,
   "id": "36be5447",
   "metadata": {
    "execution": {
     "iopub.execute_input": "2023-11-12T13:32:49.065067Z",
     "iopub.status.busy": "2023-11-12T13:32:49.064172Z",
     "iopub.status.idle": "2023-11-12T13:32:49.071767Z",
     "shell.execute_reply": "2023-11-12T13:32:49.070776Z"
    },
    "papermill": {
     "duration": 0.013683,
     "end_time": "2023-11-12T13:32:49.073438",
     "exception": false,
     "start_time": "2023-11-12T13:32:49.059755",
     "status": "completed"
    },
    "tags": []
   },
   "outputs": [
    {
     "data": {
      "text/plain": [
       "(3000, 5)"
      ]
     },
     "execution_count": 3,
     "metadata": {},
     "output_type": "execute_result"
    }
   ],
   "source": [
    "# Shows the amount of rows and columns in the dataframe\n",
    "df.shape"
   ]
  },
  {
   "cell_type": "code",
   "execution_count": 4,
   "id": "e8c2d18e",
   "metadata": {
    "execution": {
     "iopub.execute_input": "2023-11-12T13:32:49.081755Z",
     "iopub.status.busy": "2023-11-12T13:32:49.080985Z",
     "iopub.status.idle": "2023-11-12T13:32:49.103311Z",
     "shell.execute_reply": "2023-11-12T13:32:49.102429Z"
    },
    "papermill": {
     "duration": 0.028587,
     "end_time": "2023-11-12T13:32:49.105157",
     "exception": false,
     "start_time": "2023-11-12T13:32:49.076570",
     "status": "completed"
    },
    "tags": []
   },
   "outputs": [
    {
     "data": {
      "text/html": [
       "<div>\n",
       "<style scoped>\n",
       "    .dataframe tbody tr th:only-of-type {\n",
       "        vertical-align: middle;\n",
       "    }\n",
       "\n",
       "    .dataframe tbody tr th {\n",
       "        vertical-align: top;\n",
       "    }\n",
       "\n",
       "    .dataframe thead th {\n",
       "        text-align: right;\n",
       "    }\n",
       "</style>\n",
       "<table border=\"1\" class=\"dataframe\">\n",
       "  <thead>\n",
       "    <tr style=\"text-align: right;\">\n",
       "      <th></th>\n",
       "      <th>v1</th>\n",
       "      <th>v2</th>\n",
       "      <th>Unnamed: 2</th>\n",
       "      <th>Unnamed: 3</th>\n",
       "      <th>Unnamed: 4</th>\n",
       "    </tr>\n",
       "  </thead>\n",
       "  <tbody>\n",
       "    <tr>\n",
       "      <th>0</th>\n",
       "      <td>Neg</td>\n",
       "      <td>A customer cannot stream a movie if they purc...</td>\n",
       "      <td>NaN</td>\n",
       "      <td>NaN</td>\n",
       "      <td>NaN</td>\n",
       "    </tr>\n",
       "    <tr>\n",
       "      <th>1</th>\n",
       "      <td>Neg</td>\n",
       "      <td>A database management system such as Oracle D...</td>\n",
       "      <td>NaN</td>\n",
       "      <td>NaN</td>\n",
       "      <td>NaN</td>\n",
       "    </tr>\n",
       "    <tr>\n",
       "      <th>2</th>\n",
       "      <td>Neg</td>\n",
       "      <td>All credit card information will be not be se...</td>\n",
       "      <td>NaN</td>\n",
       "      <td>NaN</td>\n",
       "      <td>NaN</td>\n",
       "    </tr>\n",
       "    <tr>\n",
       "      <th>3</th>\n",
       "      <td>Neg</td>\n",
       "      <td>Not all movies shall be streamed on demand at ...</td>\n",
       "      <td>NaN</td>\n",
       "      <td>NaN</td>\n",
       "      <td>NaN</td>\n",
       "    </tr>\n",
       "    <tr>\n",
       "      <th>4</th>\n",
       "      <td>Neg</td>\n",
       "      <td>An employee is unable to successfully use the...</td>\n",
       "      <td>NaN</td>\n",
       "      <td>NaN</td>\n",
       "      <td>NaN</td>\n",
       "    </tr>\n",
       "    <tr>\n",
       "      <th>5</th>\n",
       "      <td>Neg</td>\n",
       "      <td>Any interface between a user and the automate...</td>\n",
       "      <td>NaN</td>\n",
       "      <td>NaN</td>\n",
       "      <td>NaN</td>\n",
       "    </tr>\n",
       "    <tr>\n",
       "      <th>6</th>\n",
       "      <td>Neg</td>\n",
       "      <td>Table constraints like a Primary key, Foreign ...</td>\n",
       "      <td>NaN</td>\n",
       "      <td>NaN</td>\n",
       "      <td>NaN</td>\n",
       "    </tr>\n",
       "    <tr>\n",
       "      <th>7</th>\n",
       "      <td>Neg</td>\n",
       "      <td>File selection dialog does not show supported ...</td>\n",
       "      <td>NaN</td>\n",
       "      <td>NaN</td>\n",
       "      <td>NaN</td>\n",
       "    </tr>\n",
       "    <tr>\n",
       "      <th>8</th>\n",
       "      <td>Neg</td>\n",
       "      <td>Field length shown to the user on the page and...</td>\n",
       "      <td>NaN</td>\n",
       "      <td>NaN</td>\n",
       "      <td>NaN</td>\n",
       "    </tr>\n",
       "    <tr>\n",
       "      <th>9</th>\n",
       "      <td>Neg</td>\n",
       "      <td>Cancel button functionality is not working in ...</td>\n",
       "      <td>NaN</td>\n",
       "      <td>NaN</td>\n",
       "      <td>NaN</td>\n",
       "    </tr>\n",
       "  </tbody>\n",
       "</table>\n",
       "</div>"
      ],
      "text/plain": [
       "    v1                                                 v2 Unnamed: 2  \\\n",
       "0  Neg   A customer cannot stream a movie if they purc...        NaN   \n",
       "1  Neg   A database management system such as Oracle D...        NaN   \n",
       "2  Neg   All credit card information will be not be se...        NaN   \n",
       "3  Neg  Not all movies shall be streamed on demand at ...        NaN   \n",
       "4  Neg   An employee is unable to successfully use the...        NaN   \n",
       "5  Neg   Any interface between a user and the automate...        NaN   \n",
       "6  Neg  Table constraints like a Primary key, Foreign ...        NaN   \n",
       "7  Neg  File selection dialog does not show supported ...        NaN   \n",
       "8  Neg  Field length shown to the user on the page and...        NaN   \n",
       "9  Neg  Cancel button functionality is not working in ...        NaN   \n",
       "\n",
       "  Unnamed: 3 Unnamed: 4  \n",
       "0        NaN        NaN  \n",
       "1        NaN        NaN  \n",
       "2        NaN        NaN  \n",
       "3        NaN        NaN  \n",
       "4        NaN        NaN  \n",
       "5        NaN        NaN  \n",
       "6        NaN        NaN  \n",
       "7        NaN        NaN  \n",
       "8        NaN        NaN  \n",
       "9        NaN        NaN  "
      ]
     },
     "execution_count": 4,
     "metadata": {},
     "output_type": "execute_result"
    }
   ],
   "source": [
    "#shows the first 10 lines of data\n",
    "df.head(10)"
   ]
  },
  {
   "cell_type": "code",
   "execution_count": 5,
   "id": "e4a3a456",
   "metadata": {
    "execution": {
     "iopub.execute_input": "2023-11-12T13:32:49.114499Z",
     "iopub.status.busy": "2023-11-12T13:32:49.113596Z",
     "iopub.status.idle": "2023-11-12T13:32:49.126961Z",
     "shell.execute_reply": "2023-11-12T13:32:49.125866Z"
    },
    "papermill": {
     "duration": 0.019963,
     "end_time": "2023-11-12T13:32:49.128739",
     "exception": false,
     "start_time": "2023-11-12T13:32:49.108776",
     "status": "completed"
    },
    "tags": []
   },
   "outputs": [],
   "source": [
    "# Keep only the first and second columns\n",
    "columns_to_keep = ['v1', 'v2']\n",
    "df = df[columns_to_keep]"
   ]
  },
  {
   "cell_type": "code",
   "execution_count": 6,
   "id": "c09ec04c",
   "metadata": {
    "execution": {
     "iopub.execute_input": "2023-11-12T13:32:49.137382Z",
     "iopub.status.busy": "2023-11-12T13:32:49.136996Z",
     "iopub.status.idle": "2023-11-12T13:32:49.144734Z",
     "shell.execute_reply": "2023-11-12T13:32:49.143618Z"
    },
    "papermill": {
     "duration": 0.013956,
     "end_time": "2023-11-12T13:32:49.146384",
     "exception": false,
     "start_time": "2023-11-12T13:32:49.132428",
     "status": "completed"
    },
    "tags": []
   },
   "outputs": [
    {
     "data": {
      "text/plain": [
       "v1    0\n",
       "v2    0\n",
       "dtype: int64"
      ]
     },
     "execution_count": 6,
     "metadata": {},
     "output_type": "execute_result"
    }
   ],
   "source": [
    "# Checking null values(optional)\n",
    "df.isnull().sum()"
   ]
  },
  {
   "cell_type": "code",
   "execution_count": 7,
   "id": "172be5e3",
   "metadata": {
    "execution": {
     "iopub.execute_input": "2023-11-12T13:32:49.155123Z",
     "iopub.status.busy": "2023-11-12T13:32:49.154703Z",
     "iopub.status.idle": "2023-11-12T13:32:49.166303Z",
     "shell.execute_reply": "2023-11-12T13:32:49.164902Z"
    },
    "papermill": {
     "duration": 0.018109,
     "end_time": "2023-11-12T13:32:49.168076",
     "exception": false,
     "start_time": "2023-11-12T13:32:49.149967",
     "status": "completed"
    },
    "tags": []
   },
   "outputs": [
    {
     "data": {
      "text/plain": [
       "v1\n",
       "Pos    2100\n",
       "Neg     900\n",
       "Name: count, dtype: int64"
      ]
     },
     "execution_count": 7,
     "metadata": {},
     "output_type": "execute_result"
    }
   ],
   "source": [
    "# To see amount per label(optional) \n",
    "df.v1.value_counts()"
   ]
  },
  {
   "cell_type": "code",
   "execution_count": 8,
   "id": "2c12aa44",
   "metadata": {
    "execution": {
     "iopub.execute_input": "2023-11-12T13:32:49.177672Z",
     "iopub.status.busy": "2023-11-12T13:32:49.176884Z",
     "iopub.status.idle": "2023-11-12T13:32:52.642634Z",
     "shell.execute_reply": "2023-11-12T13:32:52.641253Z"
    },
    "papermill": {
     "duration": 3.472643,
     "end_time": "2023-11-12T13:32:52.644551",
     "exception": false,
     "start_time": "2023-11-12T13:32:49.171908",
     "status": "completed"
    },
    "tags": []
   },
   "outputs": [
    {
     "name": "stdout",
     "output_type": "stream",
     "text": [
      "\n",
      "Results for Multinomial Naive Bayes:\n",
      "Accuracy: 0.8\n",
      "Classification Report:\n",
      "               precision    recall  f1-score   support\n",
      "\n",
      "         Neg       0.89      0.43      0.58       288\n",
      "         Pos       0.78      0.97      0.87       612\n",
      "\n",
      "    accuracy                           0.80       900\n",
      "   macro avg       0.83      0.70      0.72       900\n",
      "weighted avg       0.82      0.80      0.78       900\n",
      "\n",
      "\n",
      "Results for Decision Tree:\n",
      "Accuracy: 0.93\n",
      "Classification Report:\n",
      "               precision    recall  f1-score   support\n",
      "\n",
      "         Neg       0.92      0.86      0.89       288\n",
      "         Pos       0.94      0.96      0.95       612\n",
      "\n",
      "    accuracy                           0.93       900\n",
      "   macro avg       0.93      0.91      0.92       900\n",
      "weighted avg       0.93      0.93      0.93       900\n",
      "\n",
      "\n",
      "Results for Random Forest:\n",
      "Accuracy: 0.9122222222222223\n",
      "Classification Report:\n",
      "               precision    recall  f1-score   support\n",
      "\n",
      "         Neg       0.93      0.79      0.85       288\n",
      "         Pos       0.91      0.97      0.94       612\n",
      "\n",
      "    accuracy                           0.91       900\n",
      "   macro avg       0.92      0.88      0.89       900\n",
      "weighted avg       0.91      0.91      0.91       900\n",
      "\n",
      "\n",
      "Results for Support Vector Machine:\n",
      "Accuracy: 0.8677777777777778\n",
      "Classification Report:\n",
      "               precision    recall  f1-score   support\n",
      "\n",
      "         Neg       0.92      0.64      0.76       288\n",
      "         Pos       0.85      0.97      0.91       612\n",
      "\n",
      "    accuracy                           0.87       900\n",
      "   macro avg       0.89      0.81      0.83       900\n",
      "weighted avg       0.87      0.87      0.86       900\n",
      "\n",
      "\n",
      "Results for Logistic Regression:\n",
      "Accuracy: 0.8655555555555555\n",
      "Classification Report:\n",
      "               precision    recall  f1-score   support\n",
      "\n",
      "         Neg       0.96      0.61      0.74       288\n",
      "         Pos       0.84      0.99      0.91       612\n",
      "\n",
      "    accuracy                           0.87       900\n",
      "   macro avg       0.90      0.80      0.83       900\n",
      "weighted avg       0.88      0.87      0.86       900\n",
      "\n"
     ]
    }
   ],
   "source": [
    "# Model Development\n",
    "\n",
    "# Import necessary libraries\n",
    "import pandas as pd\n",
    "from sklearn.feature_extraction.text import CountVectorizer, TfidfTransformer\n",
    "from sklearn.ensemble import RandomForestClassifier\n",
    "from sklearn.naive_bayes import MultinomialNB\n",
    "from sklearn.tree import DecisionTreeClassifier\n",
    "from sklearn.svm import SVC\n",
    "from sklearn.linear_model import LogisticRegression\n",
    "from sklearn.pipeline import Pipeline\n",
    "from sklearn.model_selection import train_test_split\n",
    "from sklearn.metrics import accuracy_score, classification_report\n",
    "\n",
    "# Define classifiers\n",
    "classifiers = {\n",
    "    'Multinomial Naive Bayes': MultinomialNB(),\n",
    "    'Decision Tree': DecisionTreeClassifier(),\n",
    "    'Random Forest': RandomForestClassifier(),\n",
    "    'Support Vector Machine': SVC(),\n",
    "    'Logistic Regression': LogisticRegression()\n",
    "}\n",
    "\n",
    "# Iterate through classifiers\n",
    "for name, clf in classifiers.items():\n",
    "    # Build a corpus from the 'Test Case/v2' column\n",
    "    corpus = df['v2'].tolist()\n",
    "\n",
    "    # Create a Bag-of-Words model using CountVectorizer(to convert the text data into numerical features) \n",
    "    # and TfidfTransformer(commonly used to normalize and scale the term frequencies)\n",
    "    vectorizer = CountVectorizer()\n",
    "    transformer = TfidfTransformer()\n",
    "    classifier = clf\n",
    "\n",
    "    # Create a pipeline with a text feature vectorizer (CountVectorizer), TfidfTransformer, and the classifier\n",
    "    model = Pipeline([\n",
    "        ('vectorizer', vectorizer),\n",
    "        ('transformer', transformer),\n",
    "        ('classifier', classifier)\n",
    "    ])\n",
    "\n",
    "    # Split the dataset into training and testing sets\n",
    "    X_train, X_test, y_train, y_test = train_test_split(corpus, df['v1'], test_size=0.3, random_state=42)\n",
    "\n",
    "    # Train the model\n",
    "    model.fit(X_train, y_train)\n",
    "\n",
    "    # Make predictions on the test set\n",
    "    predictions = model.predict(X_test)\n",
    "\n",
    "    # Evaluate the model\n",
    "    accuracy = accuracy_score(y_test, predictions)\n",
    "    report = classification_report(y_test, predictions)\n",
    "\n",
    "    print(f'\\nResults for {name}:')\n",
    "    print(f'Accuracy: {accuracy}')\n",
    "    print('Classification Report:\\n', report)\n"
   ]
  },
  {
   "cell_type": "code",
   "execution_count": 9,
   "id": "ba8e0108",
   "metadata": {
    "execution": {
     "iopub.execute_input": "2023-11-12T13:32:52.654558Z",
     "iopub.status.busy": "2023-11-12T13:32:52.654162Z",
     "iopub.status.idle": "2023-11-12T13:32:52.810282Z",
     "shell.execute_reply": "2023-11-12T13:32:52.808889Z"
    },
    "papermill": {
     "duration": 0.163938,
     "end_time": "2023-11-12T13:32:52.812799",
     "exception": false,
     "start_time": "2023-11-12T13:32:52.648861",
     "status": "completed"
    },
    "tags": []
   },
   "outputs": [
    {
     "data": {
      "text/plain": [
       "['decision_tree_model.pkl']"
      ]
     },
     "execution_count": 9,
     "metadata": {},
     "output_type": "execute_result"
    }
   ],
   "source": [
    "# Use Decision Tree \n",
    "\n",
    "classifier = DecisionTreeClassifier()\n",
    "\n",
    "# Create a pipeline with a text feature vectorizer (CountVectorizer), TfidfTransformer, and the Decision Tree classifier\n",
    "model = Pipeline([\n",
    "    ('vectorizer', vectorizer),\n",
    "    ('transformer', transformer),\n",
    "    ('classifier', classifier)\n",
    "])\n",
    "\n",
    "# Split the dataset into training and testing sets\n",
    "X_train, X_test, y_train, y_test = train_test_split(corpus, df['v1'], test_size=0.3, random_state=42)\n",
    "\n",
    "# Train the model\n",
    "model.fit(X_train, y_train)\n",
    "\n",
    "# Save the trained model to a file\n",
    "# Use joblib to save and load the model\n",
    "import joblib  \n",
    "joblib.dump(model, 'decision_tree_model.pkl')"
   ]
  },
  {
   "cell_type": "code",
   "execution_count": 10,
   "id": "482326db",
   "metadata": {
    "execution": {
     "iopub.execute_input": "2023-11-12T13:32:52.822746Z",
     "iopub.status.busy": "2023-11-12T13:32:52.822409Z",
     "iopub.status.idle": "2023-11-12T13:32:52.827149Z",
     "shell.execute_reply": "2023-11-12T13:32:52.826100Z"
    },
    "papermill": {
     "duration": 0.012017,
     "end_time": "2023-11-12T13:32:52.829059",
     "exception": false,
     "start_time": "2023-11-12T13:32:52.817042",
     "status": "completed"
    },
    "tags": []
   },
   "outputs": [],
   "source": [
    "# # Later on(if you want to build an interface), when you want to use the model for predictions:\n",
    "\n",
    "# # Load the trained model from the file\n",
    "# loaded_model = joblib.load('decision_tree_model.pkl')\n",
    "\n",
    "# # Input a new test case\n",
    "# single_test_case = [input(\"Enter your test case: \")]\n",
    "\n",
    "# # Make predictions using the loaded model\n",
    "# prediction = loaded_model.predict(single_test_case)\n",
    "\n",
    "# # Display the result\n",
    "# print(f'Test Case: {single_test_case[0]}')\n",
    "# print(f'Prediction: {prediction[0]}')\n"
   ]
  },
  {
   "cell_type": "code",
   "execution_count": 11,
   "id": "bb89c8ea",
   "metadata": {
    "execution": {
     "iopub.execute_input": "2023-11-12T13:32:52.839191Z",
     "iopub.status.busy": "2023-11-12T13:32:52.838825Z",
     "iopub.status.idle": "2023-11-12T13:32:52.843795Z",
     "shell.execute_reply": "2023-11-12T13:32:52.842686Z"
    },
    "papermill": {
     "duration": 0.012465,
     "end_time": "2023-11-12T13:32:52.845744",
     "exception": false,
     "start_time": "2023-11-12T13:32:52.833279",
     "status": "completed"
    },
    "tags": []
   },
   "outputs": [],
   "source": [
    "# # Later on(if you want to build an interface), when you want to use the model for predictions:\n",
    "\n",
    "# # Load the trained model from the file\n",
    "# loaded_model = joblib.load('decision_tree_model.pkl')\n",
    "\n",
    "# # Input a new test case\n",
    "# single_test_case = [input(\"Enter your test case: \")]\n",
    "\n",
    "# # Make predictions using the loaded model\n",
    "# prediction = loaded_model.predict(single_test_case)\n",
    "\n",
    "# # Display the result\n",
    "# print(f'Test Case: {single_test_case[0]}')\n",
    "# print(f'Prediction: {prediction[0]}')"
   ]
  },
  {
   "cell_type": "code",
   "execution_count": null,
   "id": "46cd2b5b",
   "metadata": {
    "papermill": {
     "duration": 0.003842,
     "end_time": "2023-11-12T13:32:52.853969",
     "exception": false,
     "start_time": "2023-11-12T13:32:52.850127",
     "status": "completed"
    },
    "tags": []
   },
   "outputs": [],
   "source": []
  }
 ],
 "metadata": {
  "kaggle": {
   "accelerator": "none",
   "dataSources": [
    {
     "datasetId": 3019493,
     "sourceId": 5193109,
     "sourceType": "datasetVersion"
    }
   ],
   "dockerImageVersionId": 30579,
   "isGpuEnabled": false,
   "isInternetEnabled": true,
   "language": "python",
   "sourceType": "notebook"
  },
  "kernelspec": {
   "display_name": "Python 3",
   "language": "python",
   "name": "python3"
  },
  "language_info": {
   "codemirror_mode": {
    "name": "ipython",
    "version": 3
   },
   "file_extension": ".py",
   "mimetype": "text/x-python",
   "name": "python",
   "nbconvert_exporter": "python",
   "pygments_lexer": "ipython3",
   "version": "3.10.12"
  },
  "papermill": {
   "default_parameters": {},
   "duration": 7.395085,
   "end_time": "2023-11-12T13:32:53.479154",
   "environment_variables": {},
   "exception": null,
   "input_path": "__notebook__.ipynb",
   "output_path": "__notebook__.ipynb",
   "parameters": {},
   "start_time": "2023-11-12T13:32:46.084069",
   "version": "2.4.0"
  }
 },
 "nbformat": 4,
 "nbformat_minor": 5
}
